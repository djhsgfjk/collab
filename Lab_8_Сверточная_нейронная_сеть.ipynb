{
  "nbformat": 4,
  "nbformat_minor": 0,
  "metadata": {
    "colab": {
      "provenance": [],
      "authorship_tag": "ABX9TyMzSSTLONuBkUSSNbVIAQ0q",
      "include_colab_link": true
    },
    "kernelspec": {
      "name": "python3",
      "display_name": "Python 3"
    },
    "language_info": {
      "name": "python"
    }
  },
  "cells": [
    {
      "cell_type": "markdown",
      "metadata": {
        "id": "view-in-github",
        "colab_type": "text"
      },
      "source": [
        "<a href=\"https://colab.research.google.com/github/djhsgfjk/collab/blob/main/Lab_8_%D0%A1%D0%B2%D0%B5%D1%80%D1%82%D0%BE%D1%87%D0%BD%D0%B0%D1%8F_%D0%BD%D0%B5%D0%B9%D1%80%D0%BE%D0%BD%D0%BD%D0%B0%D1%8F_%D1%81%D0%B5%D1%82%D1%8C.ipynb\" target=\"_parent\"><img src=\"https://colab.research.google.com/assets/colab-badge.svg\" alt=\"Open In Colab\"/></a>"
      ]
    },
    {
      "cell_type": "code",
      "source": [
        "import torch\n",
        "import torch.nn as nn\n",
        "import torch.optim as optim\n",
        "import torch.utils.data\n",
        "import torch.nn.functional as F\n",
        "import torchvision\n",
        "from torchvision import transforms, datasets\n",
        "from PIL import Image, ImageFile\n",
        "\n",
        "ImageFile.LOAD_TRUNCATED_IMAGES=True"
      ],
      "metadata": {
        "id": "rHvf-MUyCybx"
      },
      "execution_count": null,
      "outputs": []
    },
    {
      "cell_type": "markdown",
      "source": [
        "Разделить данные на обучающую, валидационную и тестовую выборки."
      ],
      "metadata": {
        "id": "19m6FIJSD2rI"
      }
    },
    {
      "cell_type": "markdown",
      "source": [
        "Нормализовать данные перед обучением. "
      ],
      "metadata": {
        "id": "SaPHpePzDxSz"
      }
    },
    {
      "cell_type": "code",
      "source": [
        "img_transform = transforms.Compose(\n",
        "    [transforms.ToTensor(),\n",
        "    transforms.Normalize((0.5,), (0.5,))]\n",
        ")"
      ],
      "metadata": {
        "id": "-pVbUZ7CCvB0"
      },
      "execution_count": null,
      "outputs": []
    },
    {
      "cell_type": "code",
      "source": [
        "train_data = datasets.MNIST(root='/data/notebook_files/',\n",
        "                          download=True,\n",
        "                          train=True,\n",
        "                          transform=img_transform)\n",
        "\n",
        "test_data = datasets.MNIST(root='/data/notebook_files/',\n",
        "                        download=True,\n",
        "                        train=False,\n",
        "                        transform=img_transform)\n",
        "\n",
        "val_data = datasets.MNIST(root='/data/notebook_files/',\n",
        "                        download=True,\n",
        "                        train=False,\n",
        "                        transform=img_transform)\n",
        "\n",
        "train_data_loader = torch.utils.data.DataLoader(train_data,\n",
        "                                                batch_size=64,\n",
        "                                               )\n",
        "test_data_loader = torch.utils.data.DataLoader(test_data,\n",
        "                                              batch_size=64,\n",
        "                                              )\n",
        "val_data_loader = torch.utils.data.DataLoader(val_data,\n",
        "                                              batch_size=64,\n",
        "                                              )\n"
      ],
      "metadata": {
        "id": "F8saUYTbAqxQ"
      },
      "execution_count": null,
      "outputs": []
    },
    {
      "cell_type": "markdown",
      "source": [
        "В качестве функций активации взять ReLU. "
      ],
      "metadata": {
        "id": "jAu2RdsWDtmY"
      }
    },
    {
      "cell_type": "code",
      "source": [
        "class VGG(nn.Module):\n",
        "    def __init__(self):\n",
        "        super(VGG, self).__init__()\n",
        "        self.features = nn.Sequential(\n",
        "            nn.Conv2d(1, 8, 3, padding=1),\n",
        "            nn.ReLU(),\n",
        "            nn.Conv2d(8, 8, 3, padding=1),\n",
        "            nn.ReLU(),\n",
        "            nn.MaxPool2d(kernel_size=2),\n",
        "            nn.Conv2d(8, 10, 3, padding=1),\n",
        "            nn.ReLU(),\n",
        "            nn.Conv2d(10, 16, 3, padding=1),\n",
        "            nn.ReLU(),\n",
        "            nn.Conv2d(16, 16, 3, padding=1),\n",
        "            nn.ReLU(),\n",
        "            nn.MaxPool2d(kernel_size=2)\n",
        "        )\n",
        "        self.classification = nn.Sequential(\n",
        "            nn.Linear(7 * 7 * 16, 100),\n",
        "            nn.ReLU(),\n",
        "            nn.Linear(100, 10),\n",
        "            nn.ReLU()\n",
        "        )\n",
        "\n",
        "    def forward(self, x):\n",
        "        x = self.features(x)\n",
        "        x = x.view(-1, 7 * 7 * 16)\n",
        "        x = self.classification(x)\n",
        "        return x"
      ],
      "metadata": {
        "id": "0C5VDJL4DIf6"
      },
      "execution_count": null,
      "outputs": []
    },
    {
      "cell_type": "code",
      "source": [
        "def train(model, optimizer, loss_fn, train_loader, val_loader, epochs=10, device=\"cpu\"):\n",
        "    for epoch in range(1, epochs + 1):\n",
        "        training_loss = 0.0\n",
        "        valid_loss = 0.0\n",
        "        model.train()\n",
        "        for batch in train_loader:\n",
        "            optimizer.zero_grad()\n",
        "            inputs, targets = batch\n",
        "            inputs = inputs.to(device)\n",
        "            targets = targets.to(device)\n",
        "            output = model(inputs)\n",
        "            loss = loss_fn(output, targets)\n",
        "            loss.backward()\n",
        "            optimizer.step()\n",
        "            training_loss += loss.data.item()\n",
        "        training_loss /= len(train_loader.dataset)\n",
        "\n",
        "        model.eval()\n",
        "        num_correct = 0\n",
        "        num_examples = 0\n",
        "        for batch in val_loader:\n",
        "            inputs, targets = batch\n",
        "            inputs = inputs.to(device)\n",
        "            output = model(inputs)\n",
        "            targets = targets.to(device)\n",
        "            loss = loss_fn(output, targets)\n",
        "            valid_loss += loss.data.item()\n",
        "            correct = torch.eq(torch.max(F.softmax(output, dim=1), dim=1)[1],\n",
        "                               targets)\n",
        "            num_correct += torch.sum(correct).item()\n",
        "            num_examples += correct.shape[0]\n",
        "        valid_loss /= len(val_loader.dataset)\n",
        "\n",
        "        print('Epoch: {}, Training Loss: {:.2f}, Validation Loss: {:.2f}, accuracy = {:.2f}'\n",
        "              .format(epoch, training_loss, valid_loss, num_correct / num_examples))"
      ],
      "metadata": {
        "id": "wRE6NNybDJYc"
      },
      "execution_count": null,
      "outputs": []
    },
    {
      "cell_type": "code",
      "source": [
        "vgg = VGG()\n",
        "vgg = vgg.to('cpu')\n",
        "optimizer = optim.SGD(vgg.parameters(), lr=0.001, momentum=0.9)"
      ],
      "metadata": {
        "id": "BjQUbonAToW-"
      },
      "execution_count": null,
      "outputs": []
    },
    {
      "cell_type": "markdown",
      "source": [
        "В качестве целевой функцци взять nn.CrossEntropyLoss()."
      ],
      "metadata": {
        "id": "k6_0Kq4iDmlB"
      }
    },
    {
      "cell_type": "code",
      "source": [
        "train(vgg, optimizer, torch.nn.CrossEntropyLoss(), train_data_loader, val_data_loader)"
      ],
      "metadata": {
        "id": "qW_9csKJDOEZ",
        "colab": {
          "base_uri": "https://localhost:8080/"
        },
        "outputId": "c97b0ebb-d5b6-4cdf-a034-a9b2e191aca0"
      },
      "execution_count": null,
      "outputs": [
        {
          "output_type": "stream",
          "name": "stdout",
          "text": [
            "Epoch: 1, Training Loss: 0.00, Validation Loss: 0.00, accuracy = 0.89\n",
            "Epoch: 2, Training Loss: 0.00, Validation Loss: 0.00, accuracy = 0.89\n",
            "Epoch: 3, Training Loss: 0.00, Validation Loss: 0.00, accuracy = 0.89\n",
            "Epoch: 4, Training Loss: 0.00, Validation Loss: 0.00, accuracy = 0.98\n",
            "Epoch: 5, Training Loss: 0.00, Validation Loss: 0.00, accuracy = 0.98\n",
            "Epoch: 6, Training Loss: 0.00, Validation Loss: 0.00, accuracy = 0.99\n",
            "Epoch: 7, Training Loss: 0.00, Validation Loss: 0.00, accuracy = 0.98\n",
            "Epoch: 8, Training Loss: 0.00, Validation Loss: 0.00, accuracy = 0.99\n",
            "Epoch: 9, Training Loss: 0.00, Validation Loss: 0.00, accuracy = 0.98\n",
            "Epoch: 10, Training Loss: 0.00, Validation Loss: 0.00, accuracy = 0.98\n"
          ]
        }
      ]
    }
  ]
}